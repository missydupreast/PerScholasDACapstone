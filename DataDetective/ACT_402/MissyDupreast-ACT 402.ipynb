{
 "cells": [
  {
   "cell_type": "code",
   "execution_count": 1,
   "metadata": {},
   "outputs": [],
   "source": [
    "# code from jira\n",
    "\n",
    "from pyspark.sql import SparkSession\n",
    "\n",
    "# Initialize Spark session\n",
    "\n",
    "spark = SparkSession.builder.appName(\"data_warehouse\").getOrCreate()\n",
    "\n",
    "# Load data from different sources\n",
    "\n",
    "data_source_1 = spark.read.csv(r\"C:\\Users\\Learner_9ZH3Z104\\Desktop\\ACT 402\\405 - source1.csv\", header=True)\n",
    "\n",
    "data_source_2 = spark.read.json(r\"C:\\Users\\Learner_9ZH3Z104\\Desktop\\ACT 402\\405 - source2.json\")\n",
    "\n",
    "# Transform and combine data\n",
    "\n",
    "combined_data = data_source_1.join(data_source_2, on=\"common_column\")\n",
    "\n",
    "cleaned_combined_data = combined_data.filter(combined_data[\"value\"] > 10)\n",
    "\n",
    "# Write to data warehouse\n",
    "\n",
    "cleaned_combined_data.write.parquet(r\"C:\\Users\\Learner_9ZH3Z104\\Desktop\\ACT 402\\data_warehouse.parquet\")"
   ]
  },
  {
   "cell_type": "code",
   "execution_count": 2,
   "metadata": {},
   "outputs": [
    {
     "name": "stdout",
     "output_type": "stream",
     "text": [
      "+-------------+------+-----+\n",
      "|common_column|value1|value|\n",
      "+-------------+------+-----+\n",
      "|            2|    20|   18|\n",
      "|            3|     8|   14|\n",
      "|            4|    12|   22|\n",
      "|            5|    18|   16|\n",
      "|            6|    25|   30|\n",
      "|            7|     9|   12|\n",
      "|            8|    14|   21|\n",
      "|            9|    22|   25|\n",
      "|           10|    16|   19|\n",
      "|           11|    19|   23|\n",
      "|           12|    10|   15|\n",
      "|           13|    21|   27|\n",
      "|           14|    11|   13|\n",
      "|           15|    17|   29|\n",
      "|           16|    23|   17|\n",
      "|           17|    13|   20|\n",
      "|           18|    24|   24|\n",
      "|           19|     7|   11|\n",
      "|           20|    29|   26|\n",
      "|           21|    14|   14|\n",
      "+-------------+------+-----+\n",
      "only showing top 20 rows\n",
      "\n"
     ]
    }
   ],
   "source": [
    "cleaned_combined_data.show()"
   ]
  }
 ],
 "metadata": {
  "kernelspec": {
   "display_name": "Python 3",
   "language": "python",
   "name": "python3"
  },
  "language_info": {
   "codemirror_mode": {
    "name": "ipython",
    "version": 3
   },
   "file_extension": ".py",
   "mimetype": "text/x-python",
   "name": "python",
   "nbconvert_exporter": "python",
   "pygments_lexer": "ipython3",
   "version": "3.11.0"
  }
 },
 "nbformat": 4,
 "nbformat_minor": 2
}
